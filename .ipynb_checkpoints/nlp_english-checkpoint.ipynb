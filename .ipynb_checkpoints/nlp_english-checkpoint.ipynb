{
 "cells": [
  {
   "cell_type": "code",
   "execution_count": null,
   "metadata": {},
   "outputs": [],
   "source": [
    "import pythainlp\n",
    "import numpy as np\n",
    "import pandas as pd\n",
    "import nltk\n",
    "import re, string \n",
    "import spacy\n",
    "\n",
    "from tqdm import tqdm\n",
    "from spacy import displacy\n",
    "from collections import Counter\n",
    "from pprint import pprint\n",
    "from py_translator import Translator\n",
    "\n",
    "nlp = spacy.load('en_core_web_md')\n",
    "translator = Translator()"
   ]
  },
  {
   "cell_type": "code",
   "execution_count": null,
   "metadata": {},
   "outputs": [],
   "source": [
    "def pos_en(text):\n",
    "    translator = Translator()\n",
    "    text = translator.translate(text).text\n",
    "    text = nltk.tokenize.word_tokenize(text)\n",
    "    text = nltk.tag.pos_tag(text)\n",
    "    return text\n",
    "\n",
    "def process_text(text):\n",
    "    \n",
    "    postags =  pos_en(text)\n",
    "    nouns = []\n",
    "    questions = []\n",
    "    \n",
    "    for w in postags: \n",
    "        \n",
    "        # filter noun\n",
    "        if w[1] in ['NN','NNS','NNP','NNPS']:\n",
    "            nouns.append(w[0])\n",
    "            \n",
    "        # filter modal\n",
    "#         print(w[0],w[1])\n",
    "        if w[1] == \"MD\":\n",
    "            questions.append('yes_no')\n",
    "        \n",
    "        # check question type\n",
    "        ques_type = find_ques_type(w[0])\n",
    "        if ques_type != 'none':\n",
    "            questions.append(ques_type)\n",
    "    \n",
    "    result = {\n",
    "        \"nouns\":nouns,\n",
    "        \"question type\":questions\n",
    "    }\n",
    "    return result\n",
    "\n",
    "def find_ques_type(text):\n",
    "    text = text.lower()\n",
    "    \n",
    "    if text == 'where':\n",
    "        return text\n",
    "    if text == 'when':\n",
    "        return text\n",
    "    if text == 'why':\n",
    "        return text\n",
    "    if text == 'who':\n",
    "        return text\n",
    "    if text == 'whose':\n",
    "        return text\n",
    "    if text == 'which':\n",
    "        return text\n",
    "    if text == 'what':\n",
    "        return text\n",
    "    if text == 'how':\n",
    "        return text\n",
    "    return 'none'"
   ]
  },
  {
   "cell_type": "code",
   "execution_count": null,
   "metadata": {},
   "outputs": [],
   "source": [
    "text = 'จะไปเที่ยวกันไหม'\n",
    "print(translator.translate(text).text)\n",
    "print(process_text(text))"
   ]
  },
  {
   "cell_type": "code",
   "execution_count": null,
   "metadata": {},
   "outputs": [],
   "source": [
    "df = pd.read_csv('./data/predicted-non-questions - question.csv',encoding='utf-8-sig')\n",
    "df = df.drop(['label'],axis = 1)\n",
    "\n",
    "df2 = pd.read_csv('./data/predited-questions - question and _0.75.csv',encoding='utf-8-sig')\n",
    "result = df.append(df2,ignore_index=True)\n",
    "result"
   ]
  },
  {
   "cell_type": "code",
   "execution_count": null,
   "metadata": {},
   "outputs": [],
   "source": [
    "eng_tokenize = []\n",
    "for w in tqdm(result['text']):\n",
    "    \n",
    "    # remove unwanted charater (emoji)\n",
    "    pattern = re.compile(r\"[^\\u0E00-\\u0E7Fa-zA-Z1-9 ]\")\n",
    "    w = pattern.sub('',w)\n",
    "    \n",
    "    result_of_text = process_text(w)\n",
    "    keywords = result_of_text['nouns']\n",
    "    keywords = \",\".join(keywords)\n",
    "    \n",
    "    types = result_of_text['question type']\n",
    "    # remove duplicate question type\n",
    "    types = \",\".join(list(set(types)))\n",
    "    \n",
    "    eng_tokenize.append({\n",
    "        \"text\":w,\n",
    "        \"types\":types,\n",
    "        \"keywords\":keywords\n",
    "        \n",
    "    })\n",
    "    \n",
    "print(eng_tokenize)\n",
    "    \n",
    "    \n",
    "    "
   ]
  },
  {
   "cell_type": "code",
   "execution_count": null,
   "metadata": {},
   "outputs": [],
   "source": []
  },
  {
   "cell_type": "code",
   "execution_count": null,
   "metadata": {},
   "outputs": [],
   "source": []
  }
 ],
 "metadata": {
  "kernelspec": {
   "display_name": "Python 3",
   "language": "python",
   "name": "python3"
  },
  "language_info": {
   "codemirror_mode": {
    "name": "ipython",
    "version": 3
   },
   "file_extension": ".py",
   "mimetype": "text/x-python",
   "name": "python",
   "nbconvert_exporter": "python",
   "pygments_lexer": "ipython3",
   "version": "3.6.5"
  }
 },
 "nbformat": 4,
 "nbformat_minor": 2
}
