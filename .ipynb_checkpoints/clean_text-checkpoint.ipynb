{
 "cells": [
  {
   "cell_type": "code",
   "execution_count": null,
   "metadata": {},
   "outputs": [],
   "source": [
    "from IPython.core.interactiveshell import InteractiveShell\n",
    "InteractiveShell.ast_node_interactivity = \"all\"\n",
    "from pythainlp.util import normalize\n",
    "from pythainlp.ulmfit.utils import ThaiTokenizer\n",
    "from pythainlp.corpus import stopwords\n",
    "from pythainlp.tag import pos_tag\n",
    "\n",
    "import pandas as pd\n",
    "import numpy as np\n",
    "import os, json, sys\n",
    "import copy, glob\n",
    "import pythainlp\n",
    "import tqdm\n",
    "import re, string"
   ]
  },
  {
   "cell_type": "markdown",
   "metadata": {},
   "source": [
    "# Text_to_tokens\n",
    "- remove nomalize\n",
    "- remove duplicate\n",
    "- remove url\n",
    "- remove cr\n",
    "- remove unwanted character\n",
    "- remove spaces\n",
    "- tokenize\n",
    "- remove Stopword\n",
    "- check Upper case topic"
   ]
  },
  {
   "cell_type": "code",
   "execution_count": null,
   "metadata": {},
   "outputs": [],
   "source": [
    "def text_to_tokens(text):\n",
    "    # nomalize\n",
    "    text = normalize(text)\n",
    "    \n",
    "    # remove duplicate ending character\n",
    "    for m in re.finditer(r'([\\u0E00-\\u0E7F])(\\1{2,})', text):\n",
    "        text = text.replace(m.group(0),m.group(1),1)\n",
    "        \n",
    "    # remove url\n",
    "    text = re.sub(r'http\\S+', '', text)\n",
    "    \n",
    "    # remove CR\n",
    "    text = text.replace('cr', '').replace('sr', '').replace('\\xa0', '')\n",
    "        \n",
    "    # remove unwanted character\n",
    "    pattern = re.compile(r\"[^\\u0E00-\\u0E7Fa-zA-Z]\")\n",
    "    text = pattern.sub('',text)\n",
    "\n",
    "    # tokenization\n",
    "    tokens = pythainlp.tokenize.word_tokenize(text, engine='newmm')\n",
    "\n",
    "    # remove spaces\n",
    "    tokens = [token.replace(' ','') for token in tokens]\n",
    "    tokens = list(filter(lambda token: token != '', tokens))\n",
    "    \n",
    "    # stopword list\n",
    "    stopWords = stopwords.words('thai')\n",
    "    \n",
    "    FilteredTokens = []\n",
    "    \n",
    "    print(tokens)\n",
    "    for w in tokens:\n",
    "        \n",
    "        # remove stopword\n",
    "        if w in stopWords:\n",
    "            continue\n",
    "        \n",
    "        # check uppercase\n",
    "        if (bool(re.search(\"[a-zA-Z]\", w))):\n",
    "            if w.isupper:\n",
    "                w = \"xxup\"+w\n",
    "        FilteredTokens.append(w.lower())\n",
    "    \n",
    "    \n",
    "    \n",
    "    return FilteredTokens"
   ]
  },
  {
   "cell_type": "code",
   "execution_count": null,
   "metadata": {},
   "outputs": [],
   "source": [
    "def pos_filter_noun(tokens):\n",
    "    postags =  pos_tag(tokens, engine = 'artagger')\n",
    "    filterpos = []\n",
    "    noun = ['NPRP','NCMN']\n",
    "    for w in postags:\n",
    "        \n",
    "        # filter noun\n",
    "        if w[1] in noun:\n",
    "            filterpos.append(w)\n",
    "        \n",
    "    return filterpos\n"
   ]
  },
  {
   "cell_type": "code",
   "execution_count": null,
   "metadata": {},
   "outputs": [],
   "source": [
    "def questionType(text):\n",
    "    What = ['อะไร']\n",
    "    Where = ['ที่ไหน'] \n",
    "    When = ['เมื่อไหร่']\n",
    "    Why = ['ทำไหม']\n",
    "    Who = ['ใคร']\n",
    "    Whose = ['ของใคร']\n",
    "    Which = ['อันไหน']\n",
    "    How = ['อย่างไร']\n",
    "    Rec = ['แนะนำ']\n",
    "    YES_NO = ['ใช่ไหม','ใช่มั้ย']"
   ]
  }
 ],
 "metadata": {
  "kernelspec": {
   "display_name": "Python 3",
   "language": "python",
   "name": "python3"
  },
  "language_info": {
   "codemirror_mode": {
    "name": "ipython",
    "version": 3
   },
   "file_extension": ".py",
   "mimetype": "text/x-python",
   "name": "python",
   "nbconvert_exporter": "python",
   "pygments_lexer": "ipython3",
   "version": "3.6.5"
  }
 },
 "nbformat": 4,
 "nbformat_minor": 2
}
