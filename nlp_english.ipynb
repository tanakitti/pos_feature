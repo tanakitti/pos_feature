{
 "cells": [
  {
   "cell_type": "code",
   "execution_count": 4,
   "metadata": {},
   "outputs": [],
   "source": [
    "import pythainlp\n",
    "import numpy as np\n",
    "import pandas as pd\n",
    "import nltk\n",
    "import re, string \n",
    "import spacy\n",
    "\n",
    "\n",
    "from spacy import displacy\n",
    "from collections import Counter\n",
    "from pprint import pprint\n",
    "from py_translator import Translator\n",
    "\n",
    "nlp = spacy.load('en_core_web_md')\n",
    "translator = Translator()\n"
   ]
  },
  {
   "cell_type": "code",
   "execution_count": 77,
   "metadata": {},
   "outputs": [],
   "source": [
    "def pos_en(text):\n",
    "    text = translator.translate(text).text\n",
    "    text = nltk.tokenize.word_tokenize(text)\n",
    "    text = nltk.tag.pos_tag(text)\n",
    "    return text\n",
    "\n",
    "def process_text(text):\n",
    "    \n",
    "    postags =  pos_en(text)\n",
    "    nouns = []\n",
    "    questions = []\n",
    "    \n",
    "    for w in postags: \n",
    "        # filter noun\n",
    "        if w[1] in ['NN','NNS','NNP','NNPS']:\n",
    "            nouns.append(w[0])\n",
    "            \n",
    "        # filter modal\n",
    "        print(w[0],w[1])\n",
    "        if w[1] == \"MD\":\n",
    "            questions.append('yes_no')\n",
    "        \n",
    "        # check question type\n",
    "        ques_type = find_ques_type(w[0])\n",
    "        if ques_type != 'none':\n",
    "            questions.append(ques_type)\n",
    "    \n",
    "    result = {\n",
    "        \"nouns\":nouns,\n",
    "        \"question type\":questions\n",
    "    }\n",
    "    return result\n",
    "\n",
    "def find_ques_type(text):\n",
    "    text = text.lower()\n",
    "    \n",
    "    if text == 'where':\n",
    "        return text\n",
    "    if text == 'when':\n",
    "        return text\n",
    "    if text == 'why':\n",
    "        return text\n",
    "    if text == 'who':\n",
    "        return text\n",
    "    if text == 'whose':\n",
    "        return text\n",
    "    if text == 'which':\n",
    "        return text\n",
    "    if text == 'what':\n",
    "        return text\n",
    "    if text == 'how':\n",
    "        return text\n",
    "    return 'none'\n",
    "\n",
    "\n",
    "\n"
   ]
  },
  {
   "cell_type": "code",
   "execution_count": 78,
   "metadata": {},
   "outputs": [
    {
     "name": "stdout",
     "output_type": "stream",
     "text": [
      "Will you go on a trip?\n",
      "Will MD\n",
      "you PRP\n",
      "go VB\n",
      "on IN\n",
      "a DT\n",
      "trip NN\n",
      "? .\n",
      "{'nouns': ['trip'], 'question type': ['yes_no']}\n"
     ]
    }
   ],
   "source": [
    "text = 'จะไปเที่ยวกันไหม'\n",
    "print(translator.translate(text).text)\n",
    "print(process_text(text))\n"
   ]
  },
  {
   "cell_type": "code",
   "execution_count": null,
   "metadata": {},
   "outputs": [],
   "source": []
  }
 ],
 "metadata": {
  "kernelspec": {
   "display_name": "Python 3",
   "language": "python",
   "name": "python3"
  },
  "language_info": {
   "codemirror_mode": {
    "name": "ipython",
    "version": 3
   },
   "file_extension": ".py",
   "mimetype": "text/x-python",
   "name": "python",
   "nbconvert_exporter": "python",
   "pygments_lexer": "ipython3",
   "version": "3.6.5"
  }
 },
 "nbformat": 4,
 "nbformat_minor": 2
}
